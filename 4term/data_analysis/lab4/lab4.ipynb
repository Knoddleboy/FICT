{
 "cells": [
  {
   "cell_type": "code",
   "execution_count": 1,
   "metadata": {
    "ExecuteTime": {
     "end_time": "2023-04-20T14:42:58.283730Z",
     "start_time": "2023-04-20T14:42:56.583597Z"
    },
    "collapsed": true
   },
   "outputs": [],
   "source": [
    "import pandas as pd\n",
    "from matplotlib import pyplot as plt\n",
    "from scipy.stats import shapiro, ttest_1samp"
   ]
  },
  {
   "cell_type": "code",
   "execution_count": 2,
   "metadata": {
    "ExecuteTime": {
     "end_time": "2023-04-20T14:42:58.331895Z",
     "start_time": "2023-04-20T14:42:58.290627Z"
    },
    "collapsed": false
   },
   "outputs": [
    {
     "data": {
      "text/html": [
       "<div>\n",
       "<style scoped>\n",
       "    .dataframe tbody tr th:only-of-type {\n",
       "        vertical-align: middle;\n",
       "    }\n",
       "\n",
       "    .dataframe tbody tr th {\n",
       "        vertical-align: top;\n",
       "    }\n",
       "\n",
       "    .dataframe thead th {\n",
       "        text-align: right;\n",
       "    }\n",
       "</style>\n",
       "<table border=\"1\" class=\"dataframe\">\n",
       "  <thead>\n",
       "    <tr style=\"text-align: right;\">\n",
       "      <th></th>\n",
       "      <th>region</th>\n",
       "      <th>gdp_per_capita</th>\n",
       "      <th>population</th>\n",
       "      <th>co2_emission</th>\n",
       "      <th>area</th>\n",
       "    </tr>\n",
       "    <tr>\n",
       "      <th>country_name</th>\n",
       "      <th></th>\n",
       "      <th></th>\n",
       "      <th></th>\n",
       "      <th></th>\n",
       "      <th></th>\n",
       "    </tr>\n",
       "  </thead>\n",
       "  <tbody>\n",
       "    <tr>\n",
       "      <th>Afghanistan</th>\n",
       "      <td>South Asia</td>\n",
       "      <td>561.778746</td>\n",
       "      <td>34656032</td>\n",
       "      <td>9809.225000</td>\n",
       "      <td>652860.0</td>\n",
       "    </tr>\n",
       "    <tr>\n",
       "      <th>Albania</th>\n",
       "      <td>Europe &amp; Central Asia</td>\n",
       "      <td>4124.982390</td>\n",
       "      <td>2876101</td>\n",
       "      <td>5716.853000</td>\n",
       "      <td>28750.0</td>\n",
       "    </tr>\n",
       "    <tr>\n",
       "      <th>Algeria</th>\n",
       "      <td>Middle East &amp; North Africa</td>\n",
       "      <td>3916.881571</td>\n",
       "      <td>40606052</td>\n",
       "      <td>145400.217000</td>\n",
       "      <td>2381740.0</td>\n",
       "    </tr>\n",
       "    <tr>\n",
       "      <th>American Samoa</th>\n",
       "      <td>East Asia &amp; Pacific</td>\n",
       "      <td>11834.745230</td>\n",
       "      <td>55599</td>\n",
       "      <td>165114.116337</td>\n",
       "      <td>200.0</td>\n",
       "    </tr>\n",
       "    <tr>\n",
       "      <th>Andorra</th>\n",
       "      <td>Europe &amp; Central Asia</td>\n",
       "      <td>36988.622030</td>\n",
       "      <td>77281</td>\n",
       "      <td>462.042000</td>\n",
       "      <td>470.0</td>\n",
       "    </tr>\n",
       "    <tr>\n",
       "      <th>...</th>\n",
       "      <td>...</td>\n",
       "      <td>...</td>\n",
       "      <td>...</td>\n",
       "      <td>...</td>\n",
       "      <td>...</td>\n",
       "    </tr>\n",
       "    <tr>\n",
       "      <th>Virgin Islands (U.S.)</th>\n",
       "      <td>Latin America &amp; Caribbean</td>\n",
       "      <td>13445.593416</td>\n",
       "      <td>102951</td>\n",
       "      <td>165114.116337</td>\n",
       "      <td>350.0</td>\n",
       "    </tr>\n",
       "    <tr>\n",
       "      <th>West Bank and Gaza</th>\n",
       "      <td>Middle East &amp; North Africa</td>\n",
       "      <td>2943.404534</td>\n",
       "      <td>4551566</td>\n",
       "      <td>165114.116337</td>\n",
       "      <td>6020.0</td>\n",
       "    </tr>\n",
       "    <tr>\n",
       "      <th>Yemen, Rep.</th>\n",
       "      <td>Middle East &amp; North Africa</td>\n",
       "      <td>990.334774</td>\n",
       "      <td>27584213</td>\n",
       "      <td>22698.730000</td>\n",
       "      <td>527970.0</td>\n",
       "    </tr>\n",
       "    <tr>\n",
       "      <th>Zambia</th>\n",
       "      <td>Sub-Saharan Africa</td>\n",
       "      <td>1269.573537</td>\n",
       "      <td>16591390</td>\n",
       "      <td>4503.076000</td>\n",
       "      <td>752610.0</td>\n",
       "    </tr>\n",
       "    <tr>\n",
       "      <th>Zimbabwe</th>\n",
       "      <td>Sub-Saharan Africa</td>\n",
       "      <td>1029.076649</td>\n",
       "      <td>16150362</td>\n",
       "      <td>12020.426000</td>\n",
       "      <td>390760.0</td>\n",
       "    </tr>\n",
       "  </tbody>\n",
       "</table>\n",
       "<p>217 rows × 5 columns</p>\n",
       "</div>"
      ],
      "text/plain": [
       "                                           region  gdp_per_capita  population  \\\n",
       "country_name                                                                    \n",
       "Afghanistan                            South Asia      561.778746    34656032   \n",
       "Albania                     Europe & Central Asia     4124.982390     2876101   \n",
       "Algeria                Middle East & North Africa     3916.881571    40606052   \n",
       "American Samoa                East Asia & Pacific    11834.745230       55599   \n",
       "Andorra                     Europe & Central Asia    36988.622030       77281   \n",
       "...                                           ...             ...         ...   \n",
       "Virgin Islands (U.S.)   Latin America & Caribbean    13445.593416      102951   \n",
       "West Bank and Gaza     Middle East & North Africa     2943.404534     4551566   \n",
       "Yemen, Rep.            Middle East & North Africa      990.334774    27584213   \n",
       "Zambia                         Sub-Saharan Africa     1269.573537    16591390   \n",
       "Zimbabwe                       Sub-Saharan Africa     1029.076649    16150362   \n",
       "\n",
       "                        co2_emission       area  \n",
       "country_name                                     \n",
       "Afghanistan              9809.225000   652860.0  \n",
       "Albania                  5716.853000    28750.0  \n",
       "Algeria                145400.217000  2381740.0  \n",
       "American Samoa         165114.116337      200.0  \n",
       "Andorra                   462.042000      470.0  \n",
       "...                              ...        ...  \n",
       "Virgin Islands (U.S.)  165114.116337      350.0  \n",
       "West Bank and Gaza     165114.116337     6020.0  \n",
       "Yemen, Rep.             22698.730000   527970.0  \n",
       "Zambia                   4503.076000   752610.0  \n",
       "Zimbabwe                12020.426000   390760.0  \n",
       "\n",
       "[217 rows x 5 columns]"
      ]
     },
     "execution_count": 2,
     "metadata": {},
     "output_type": "execute_result"
    }
   ],
   "source": [
    "df = pd.read_csv('Data2.csv', on_bad_lines='skip', delimiter=';', encoding='cp1252')\n",
    "\n",
    "# rename columns\n",
    "df.columns = ['country_name', 'region', 'gdp_per_capita', 'population', 'co2_emission', 'area']\n",
    "df.set_index('country_name', inplace=True)\n",
    "\n",
    "# str fields to float\n",
    "df.gdp_per_capita = df.gdp_per_capita.astype(str).str.replace(',', '.').astype(float)\n",
    "df.co2_emission = df.co2_emission.astype(str).str.replace(',', '.').astype(float)\n",
    "df.area = df.area.astype(str).str.replace(',', '.').astype(float)\n",
    "\n",
    "# take absolute\n",
    "df.gdp_per_capita = df.gdp_per_capita.abs()\n",
    "df.area = df.area.abs()\n",
    "\n",
    "# fill empty with means\n",
    "df.gdp_per_capita.fillna(df.gdp_per_capita.mean(), inplace=True)\n",
    "df.population.fillna(df.population.mean(), inplace=True)\n",
    "df.co2_emission.fillna(df.co2_emission.mean(), inplace=True)\n",
    "\n",
    "# population as int\n",
    "df.population = df.population.astype(int)\n",
    "\n",
    "df"
   ]
  },
  {
   "cell_type": "code",
   "execution_count": 3,
   "metadata": {
    "ExecuteTime": {
     "end_time": "2023-04-20T14:42:58.343751Z",
     "start_time": "2023-04-20T14:42:58.335463Z"
    },
    "collapsed": false
   },
   "outputs": [
    {
     "name": "stdout",
     "output_type": "stream",
     "text": [
      "Для параметру gdp_per_capita гіпотеза про нормальний розподіл відкидається (p-value: 0.0000)\n",
      "Для параметру population гіпотеза про нормальний розподіл відкидається (p-value: 0.0000)\n",
      "Для параметру co2_emission гіпотеза про нормальний розподіл відкидається (p-value: 0.0000)\n",
      "Для параметру area гіпотеза про нормальний розподіл відкидається (p-value: 0.0000)\n"
     ]
    }
   ],
   "source": [
    "# 2. Вказати, чи є параметри, що розподілені за нормальним законом\n",
    "for col in df.select_dtypes(include=\"number\").columns:\n",
    "    stat, pval = shapiro(df[col])\n",
    "\n",
    "    if pval <= 0.05:\n",
    "        print(f\"Для параметру {col} гіпотеза про нормальний розподіл відкидається (p-value: {pval:.4f})\")\n",
    "    else:\n",
    "        print(f\"Для параметру {col} гіпотеза про нормальний розподіл не відкидається (p-value: {pval:.4f})\")"
   ]
  },
  {
   "cell_type": "code",
   "execution_count": 4,
   "metadata": {
    "ExecuteTime": {
     "end_time": "2023-04-20T14:42:58.421210Z",
     "start_time": "2023-04-20T14:42:58.353098Z"
    },
    "collapsed": false
   },
   "outputs": [
    {
     "name": "stdout",
     "output_type": "stream",
     "text": [
      "Для параметру gdp_per_capita гіпотеза про рівність середнього і медіани відкидається\n",
      "Для параметру population гіпотеза про рівність середнього і медіани відкидається\n",
      "Для параметру co2_emission гіпотеза про рівність середнього і медіани відкидається\n",
      "Для параметру area гіпотеза про рівність середнього і медіани відкидається\n"
     ]
    }
   ],
   "source": [
    "# 3. Перевірити гіпотезу про рівність середнього і медіани для одного з параметрів\n",
    "for col in df.select_dtypes(include=\"number\").columns:\n",
    "    data = df[col]\n",
    "    stat, pval = ttest_1samp(data, data.median())\n",
    "\n",
    "    if pval <= 0.05:\n",
    "        print(f\"Для параметру {col} гіпотеза про рівність середнього і медіани відкидається\")\n",
    "    else:\n",
    "        print(f\"Для параметру {col} гіпотеза про рівність середнього і медіани не відкидається\")"
   ]
  },
  {
   "cell_type": "code",
   "execution_count": 5,
   "metadata": {
    "ExecuteTime": {
     "end_time": "2023-04-20T14:42:58.421887Z",
     "start_time": "2023-04-20T14:42:58.377533Z"
    },
    "collapsed": false
   },
   "outputs": [
    {
     "name": "stdout",
     "output_type": "stream",
     "text": [
      "Для регіону South Asia гіпотеза про нормальний розподіл параметру co2_emission відкидається\n",
      "Для регіону Europe & Central Asia гіпотеза про нормальний розподіл параметру co2_emission відкидається\n",
      "Для регіону Middle East & North Africa гіпотеза про нормальний розподіл параметру co2_emission відкидається\n",
      "Для регіону East Asia & Pacific гіпотеза про нормальний розподіл параметру co2_emission відкидається\n",
      "Для регіону Sub-Saharan Africa гіпотеза про нормальний розподіл параметру co2_emission відкидається\n",
      "Для регіону Latin America & Caribbean гіпотеза про нормальний розподіл параметру co2_emission відкидається\n",
      "Для регіону North America гіпотеза про нормальний розподіл параметру co2_emission не відкидається\n"
     ]
    }
   ],
   "source": [
    "# 4. Вказати, в якому регіоні розподіл викидів СО2 найбільш близький до нормального\n",
    "param = 'co2_emission'\n",
    "for region in df['region'].unique():\n",
    "    stat, pval = shapiro(df[df['region'] == region][param])\n",
    "\n",
    "    if pval <= 0.05:\n",
    "        print(f\"Для регіону {region} гіпотеза про нормальний розподіл параметру {param} відкидається\")\n",
    "    else:\n",
    "        print(f\"Для регіону {region} гіпотеза про нормальний розподіл параметру {param} не відкидається\")"
   ]
  },
  {
   "cell_type": "code",
   "execution_count": 6,
   "metadata": {
    "ExecuteTime": {
     "end_time": "2023-04-20T14:42:58.685328Z",
     "start_time": "2023-04-20T14:42:58.388021Z"
    },
    "collapsed": false
   },
   "outputs": [
    {
     "data": {
      "image/png": "[encoded data removed]",
      "text/plain": [
       "<Figure size 640x480 with 1 Axes>"
      ]
     },
     "metadata": {},
     "output_type": "display_data"
    }
   ],
   "source": [
    "# 5. Побудувати кругову діаграму населення по регіонам\n",
    "df.groupby('region')['population'].sum().plot(kind=\"pie\", autopct='%1.1f%%')\n",
    "plt.title(\"Розподіл населення за регіонами\")\n",
    "plt.ylabel(None)\n",
    "plt.show()"
   ]
  }
 ],
 "metadata": {
  "kernelspec": {
   "display_name": "Python 3",
   "language": "python",
   "name": "python3"
  },
  "language_info": {
   "codemirror_mode": {
    "name": "ipython",
    "version": 2
   },
   "file_extension": ".py",
   "mimetype": "text/x-python",
   "name": "python",
   "nbconvert_exporter": "python",
   "pygments_lexer": "ipython2",
   "version": "2.7.6"
  }
 },
 "nbformat": 4,
 "nbformat_minor": 0
}
